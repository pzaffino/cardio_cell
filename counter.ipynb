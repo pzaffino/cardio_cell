{
 "metadata": {
  "name": "",
  "signature": "sha256:e907e92a5d7744a90f1b1fcb8215364babff4e02fd687f7cc9a1dd1a83e570db"
 },
 "nbformat": 3,
 "nbformat_minor": 0,
 "worksheets": [
  {
   "cells": [
    {
     "cell_type": "code",
     "collapsed": false,
     "input": [
      "\n",
      "import scipy.misc\n",
      "from scipy import ndimage\n",
      "import sys\n",
      "\n",
      "from skimage.measure import label\n",
      "from skimage.measure import regionprops\n",
      "\n",
      "from skimage.filter import threshold_otsu\n",
      "\n",
      "import matplotlib.pylab as plt\n",
      "%matplotlib inline"
     ],
     "language": "python",
     "metadata": {},
     "outputs": [],
     "prompt_number": 47
    },
    {
     "cell_type": "code",
     "collapsed": false,
     "input": [
      "# Define utility functions\n",
      "def remove_edge(im, num_pixel):\n",
      "    return im[num_pixel:-num_pixel, num_pixel:-num_pixel]\n",
      "\n",
      "def threshold_image(im, threshold):\n",
      "    im[im<=threshold]=0\n",
      "    return im\n",
      "\n",
      "def count_cell(img, edge_pixels, threshold, erosion_iterations):\n",
      "    img_no_edge = remove_edge(img, edge_pixels)\n",
      "    img_thr = threshold_image(img_no_edge, threshold)\n",
      "    eroded_img = ndimage.morphology.binary_erosion(img_thr, iterations = erosion_iterations)\n",
      "    labels, number_labels = ndimage.label(eroded_img)\n",
      "    return labels,number_labels\n"
     ],
     "language": "python",
     "metadata": {},
     "outputs": [],
     "prompt_number": 48
    },
    {
     "cell_type": "code",
     "collapsed": false,
     "input": [
      "# Define common stuff\n",
      "edge_pixels = 10\n",
      "threshold = 50\n",
      "erosion_iterations = 4\n",
      "area_threshold = 5"
     ],
     "language": "python",
     "metadata": {},
     "outputs": [],
     "prompt_number": 49
    },
    {
     "cell_type": "code",
     "collapsed": false,
     "input": [
      "# Read image and split channels\n",
      "cell_image = scipy.misc.imread(\"/home/imagenglab/Dropbox/phd/ImagEngLab/fabiola cardio/230914 doxo 6 weeks_CTRL_3.tif\")\n",
      "red, green, blu = [cell_image[:,:,i] for i in range(3)]"
     ],
     "language": "python",
     "metadata": {},
     "outputs": [],
     "prompt_number": 50
    },
    {
     "cell_type": "code",
     "collapsed": false,
     "input": [
      "threshold_global_otsu = threshold_otsu(red)"
     ],
     "language": "python",
     "metadata": {},
     "outputs": [],
     "prompt_number": 51
    },
    {
     "cell_type": "code",
     "collapsed": false,
     "input": [],
     "language": "python",
     "metadata": {},
     "outputs": [],
     "prompt_number": 51
    },
    {
     "cell_type": "code",
     "collapsed": false,
     "input": [],
     "language": "python",
     "metadata": {},
     "outputs": [],
     "prompt_number": 51
    },
    {
     "cell_type": "code",
     "collapsed": false,
     "input": [],
     "language": "python",
     "metadata": {},
     "outputs": [],
     "prompt_number": 51
    },
    {
     "cell_type": "code",
     "collapsed": false,
     "input": [],
     "language": "python",
     "metadata": {},
     "outputs": [],
     "prompt_number": 51
    },
    {
     "cell_type": "code",
     "collapsed": false,
     "input": [],
     "language": "python",
     "metadata": {},
     "outputs": [],
     "prompt_number": 51
    },
    {
     "cell_type": "code",
     "collapsed": false,
     "input": [],
     "language": "python",
     "metadata": {},
     "outputs": [],
     "prompt_number": 51
    },
    {
     "cell_type": "code",
     "collapsed": false,
     "input": [],
     "language": "python",
     "metadata": {},
     "outputs": [],
     "prompt_number": 51
    },
    {
     "cell_type": "code",
     "collapsed": false,
     "input": [],
     "language": "python",
     "metadata": {},
     "outputs": [],
     "prompt_number": 51
    },
    {
     "cell_type": "code",
     "collapsed": false,
     "input": [],
     "language": "python",
     "metadata": {},
     "outputs": [],
     "prompt_number": 51
    },
    {
     "cell_type": "code",
     "collapsed": false,
     "input": [],
     "language": "python",
     "metadata": {},
     "outputs": [],
     "prompt_number": 51
    },
    {
     "cell_type": "code",
     "collapsed": false,
     "input": [
      "# Count \n",
      "blu_labels,number_blu_labels = count_cell(blu, edge_pixels, threshold_global_otsu, erosion_iterations)\n",
      "green_labels,number_green_labels = count_cell(green, edge_pixels, threshold_global_otsu, erosion_iterations)"
     ],
     "language": "python",
     "metadata": {},
     "outputs": [],
     "prompt_number": 52
    },
    {
     "cell_type": "code",
     "collapsed": false,
     "input": [
      "misure_blu = regionprops(blu_labels)\n",
      "misure_green = regionprops(green_labels)"
     ],
     "language": "python",
     "metadata": {},
     "outputs": [],
     "prompt_number": 53
    },
    {
     "cell_type": "code",
     "collapsed": false,
     "input": [
      "list_area_blu = []\n",
      "list_area_green = []\n",
      "\n",
      "for mb in misure_blu:\n",
      "    area_corrente=mb.area\n",
      "    if area_corrente > area_threshold:\n",
      "        list_area_blu.append(area_corrente)\n",
      "    \n",
      "for mg in misure_green:\n",
      "    area_corrente=mg.area\n",
      "    if area_corrente > area_threshold:\n",
      "        list_area_green.append(area_corrente)"
     ],
     "language": "python",
     "metadata": {},
     "outputs": [],
     "prompt_number": 54
    },
    {
     "cell_type": "code",
     "collapsed": false,
     "input": [],
     "language": "python",
     "metadata": {},
     "outputs": [],
     "prompt_number": 54
    },
    {
     "cell_type": "code",
     "collapsed": false,
     "input": [
      "\n",
      "\n",
      "# Print results\n",
      "print (\"Blu cells = %d\" % len(list_area_blu))\n",
      "print (\"Green cells = %d\" % len(list_area_green))"
     ],
     "language": "python",
     "metadata": {},
     "outputs": [
      {
       "output_type": "stream",
       "stream": "stdout",
       "text": [
        "Blu cells = 147\n",
        "Green cells = 3\n"
       ]
      }
     ],
     "prompt_number": 55
    },
    {
     "cell_type": "code",
     "collapsed": false,
     "input": [],
     "language": "python",
     "metadata": {},
     "outputs": []
    }
   ],
   "metadata": {}
  }
 ]
}